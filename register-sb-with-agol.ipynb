{
 "cells": [
  {
   "cell_type": "markdown",
   "metadata": {},
   "source": [
    "# Register ScienceBase services with AGOL \n",
    "\n",
    "This code walks through a ScienceBase community and registers usable services and files with AGOL and attempts to assign categories to the items based on an existing [group category schema](https://developers.arcgis.com/rest/users-groups-and-items/update-group-items-with-content-categories.htm). Note that this does not check for existing items and will simply add new items which differ only in itemid."
   ]
  },
  {
   "cell_type": "code",
   "execution_count": null,
   "metadata": {},
   "outputs": [],
   "source": [
    "import sciencebasepy #https://github.com/usgs/sciencebasepy\n",
    "from arcgis.gis import GIS\n",
    "import requests\n",
    "import json\n",
    "import re\n",
    "from owslib.wms import WebMapService  #https://geopython.github.io/OWSLib/\n",
    "import stringcase #https://pypi.org/project/stringcase/\n",
    "import urllib3 # to suppress warnings about lack of certificate verification \n",
    "urllib3.disable_warnings(urllib3.exceptions.InsecureRequestWarning)"
   ]
  },
  {
   "cell_type": "markdown",
   "metadata": {},
   "source": [
    "Set variables"
   ]
  },
  {
   "cell_type": "code",
   "execution_count": null,
   "metadata": {},
   "outputs": [],
   "source": [
    "# set the id of the parent sciencebase community\n",
    "# ASC Data Backup Community\n",
    "# geospatialTest/data\n",
    "sb_id = 'put id here'\n",
    "\n",
    "# set the id of the AGOL group where you want to create items\n",
    "# Geospatial Test group\n",
    "agol_id = 'put id here'\n",
    "# name of the AGOL group to which services will be added\n",
    "# Alaska Science Center Data Releases\n",
    "AGOL_group = 'Geospatial test'\n",
    "# name of the folder in which to organize items\n",
    "content_folder = 'Services test'\n",
    "\n",
    "# SB login parameters\n",
    "sb_user = ''\n",
    "sb_pw = ''\n",
    "\n",
    "# AGOL login parameters\n",
    "ag_user = ''\n",
    "ag_pw = '' \n",
    "\n",
    "# this code currently only checks for ScienceBase WMS and WFS services and CSV files.\n",
    "# investigate other type mappings by comparing the raw json of the item (print(item_json))\n",
    "# and the AGOL type documentation\n",
    "link_types = {'ScienceBase WMS Service': 'WMS',\n",
    "              'ScienceBase WFS Service': 'WFS'\n",
    "              }\n",
    "# other mappings\n",
    "# link_types = {'ArcGIS Rest Service': 'esri-mapServer',\n",
    "#               'ArcGIS WMS Service': 'wms',\n",
    "#               'ScienceBase WMS Service': 'wms-getCapabilities',\n",
    "#               'ScienceBase WFS Service':'wfs-getCapabilities'\n",
    "#               }\n",
    "\n",
    "# blacklist the following service layers, we only want layers with data\n",
    "black_list = ['sb:children', 'sb:childrenBoundingBox', 'sb:boundingBox', 'sb:footprint']"
   ]
  },
  {
   "cell_type": "markdown",
   "metadata": {},
   "source": [
    "It is not possible to assign categories to items through the ArcGIS python api. This can only be done by sending a list of ```itemid : category``` in JSON format to the ```updataCategories``` REST operation. The URL takes the form below:"
   ]
  },
  {
   "cell_type": "code",
   "execution_count": null,
   "metadata": {},
   "outputs": [],
   "source": [
    "cs_url = 'http://usgs.maps.arcgis.com/sharing/rest/content/groups/{}/updateCategories'.format(agol_id)"
   ]
  },
  {
   "cell_type": "markdown",
   "metadata": {},
   "source": [
    "Functions"
   ]
  },
  {
   "cell_type": "code",
   "execution_count": null,
   "metadata": {},
   "outputs": [],
   "source": [
    "def sb_url(id):\n",
    "    #build a url to a sciencebase item when the id is known\n",
    "    return 'https://www.sciencebase.gov/catalog/item/{}'.format(id)"
   ]
  },
  {
   "cell_type": "code",
   "execution_count": null,
   "metadata": {},
   "outputs": [],
   "source": [
    "def lineage(this_json, nibbles):\n",
    "    # builds a path from the current item up to the top-most parent item\n",
    "    if not this_json['parentId'] == sb_id:\n",
    "        parent_id = this_json['parentId']\n",
    "        parent_json = sb.get_json(sb_url(parent_id))\n",
    "        parent_name = convert(parent_json['title'])\n",
    "        nibbles.append(parent_name)\n",
    "        lineage(parent_json, nibbles)\n",
    "\n",
    "    # reverse the list\n",
    "    nibbles.reverse()\n",
    "    # and we need  /Categories at the beginning of the string to match the AGOLschema\n",
    "    # and we only want 3 levels of categories, the same depth I specified when I built \n",
    "    # categories using sb-items-2-agol-categories\n",
    "    path_string = '/Categories/' + '/'.join(nibbles[0:3])\n",
    "    \n",
    "    return path_string"
   ]
  },
  {
   "cell_type": "code",
   "execution_count": null,
   "metadata": {},
   "outputs": [],
   "source": [
    "def convert(name):\n",
    "    # changes a name like aerialImagery to Aerial Imagery\n",
    "    s1 = re.sub('(.)([A-Z][a-z]+)', r'\\1 \\2', name)\n",
    "    s2 = re.sub('([a-z0-9])([A-Z])', r'\\1 \\2', s1)\n",
    "    s3 = s2.replace('  ', ' ')\n",
    "    return stringcase.capitalcase(s3)"
   ]
  },
  {
   "cell_type": "code",
   "execution_count": null,
   "metadata": {},
   "outputs": [],
   "source": [
    "def getToken(user, pw):\n",
    "    #returns ssl value and user token\n",
    "    data = {'username': user,\n",
    "        'password': pw,\n",
    "        'referer' : 'https://www.arcgis.com',\n",
    "        'f': 'json'}\n",
    "    url  = 'https://www.arcgis.com/sharing/rest/generateToken'\n",
    "    jres = requests.post(url, data=data, verify=False).json()\n",
    "\n",
    "    return jres['token'],jres['ssl']"
   ]
  },
  {
   "cell_type": "code",
   "execution_count": null,
   "metadata": {},
   "outputs": [],
   "source": [
    "def check_bb(link_d):\n",
    "    # looking for layers in the service that are not simply bounding boxes\n",
    "    wms = WebMapService(link_d['uri'])\n",
    "    layers = [x for x in wms.contents if x not in black_list]\n",
    "    \n",
    "    return layers"
   ]
  },
  {
   "cell_type": "code",
   "execution_count": null,
   "metadata": {},
   "outputs": [],
   "source": [
    "def add_links(links_list):\n",
    "    # look for and add the urls to the types of services in link_types dictionary\n",
    "    for link in links_list:\n",
    "        if link['title'] in link_types:\n",
    "            if check_bb(link):\n",
    "                print(child_name)\n",
    "                agol_type = link_types[link['title']]\n",
    "                url = link['uri']\n",
    "                up_path = lineage(item_json, [])\n",
    "                tags = up_path.split('/')[2:]\n",
    "                params = {\n",
    "                    'type': agol_type, \n",
    "                    'title': child_name, \n",
    "                    'url': url,\n",
    "                    'tags': tags\n",
    "                }\n",
    "                item_id = gis.content.add(params, folder=content_folder)\n",
    "                item_id.share(groups=[AGOL_group])\n",
    "                \n",
    "                # make a one entry dictionary of itemid: category-based-on-lineage\n",
    "                obj_d = {str(item_id.id): [up_path]}\n",
    "                \n",
    "                # and add it to our global list of items to categorize\n",
    "                categorize_list.append(obj_d)"
   ]
  },
  {
   "cell_type": "code",
   "execution_count": null,
   "metadata": {},
   "outputs": [],
   "source": [
    "def add_file_links(files_list):\n",
    "    # urls for services and kml endpoints are in different parts of the item_json\n",
    "    # so they have to be added separately. Just looking for kml files at this point\n",
    "    for file in files_list:\n",
    "        f_name = file['name']\n",
    "        if f_name.endswith('.kml'):\n",
    "            f_type = 'KML'\n",
    "            url = file['url']\n",
    "            up_path = lineage(item_json, [])\n",
    "            tags = up_path.split('/')[2:]\n",
    "            params = {\n",
    "                'type': f_type, \n",
    "                'title': f_name, \n",
    "                'url': url,\n",
    "                'tags': tags\n",
    "            }\n",
    "            item_id = gis.content.add(params, folder=content_folder)\n",
    "            item_id.share(groups=[AGOL_group])\n",
    "\n",
    "            # make a one entry dictionary of itemid: category-based-on-lineage\n",
    "            obj_d = {str(item_id.id): [up_path]}\n",
    "\n",
    "            # and add it to our global list of items to categorize\n",
    "            categorize_list.append(obj_d)"
   ]
  },
  {
   "cell_type": "markdown",
   "metadata": {},
   "source": [
    "Begin by starting a ScienceBase session. It is not necessary to log in for public items, but the connection seems more robust if you do. Use ```sb.loginc(sb_user)``` to log in interactively if you don't want to save the password in the script."
   ]
  },
  {
   "cell_type": "code",
   "execution_count": null,
   "metadata": {},
   "outputs": [],
   "source": [
    "sb = sciencebasepy.SbSession()\n",
    "sb.login(sb_user, sb_pw)"
   ]
  },
  {
   "cell_type": "markdown",
   "metadata": {},
   "source": [
    "Log in to AGOL through the Python API. Use username to get a prompt for the password or pass both variables: ```GIS(username=ag_user, password=ag_pw)```"
   ]
  },
  {
   "cell_type": "code",
   "execution_count": null,
   "metadata": {},
   "outputs": [],
   "source": [
    "gis = GIS(username=ag_user, password=ag_pw)"
   ]
  },
  {
   "cell_type": "markdown",
   "metadata": {},
   "source": [
    "Create an empty list to which we'll append dictionaries of ```{itemid: categories}```. After the list has been built we'll post it to the update group url"
   ]
  },
  {
   "cell_type": "code",
   "execution_count": null,
   "metadata": {},
   "outputs": [],
   "source": [
    "categorize_list = []"
   ]
  },
  {
   "cell_type": "markdown",
   "metadata": {},
   "source": [
    "Start at the root id of the ScienceBase community and look for services"
   ]
  },
  {
   "cell_type": "code",
   "execution_count": null,
   "metadata": {},
   "outputs": [],
   "source": [
    "for child_id in sb.get_ancestor_ids(sb_id):\n",
    "    item_json = sb.get_json(sb_url(child_id))\n",
    "    child_name = convert(item_json['title'])\n",
    "    if 'distributionLinks' in item_json:\n",
    "        add_links(item_json['distributionLinks'])\n",
    "    if 'files' in item_json:\n",
    "        add_file_links(item_json['files'])"
   ]
  },
  {
   "cell_type": "markdown",
   "metadata": {},
   "source": [
    "Check the results"
   ]
  },
  {
   "cell_type": "code",
   "execution_count": null,
   "metadata": {},
   "outputs": [],
   "source": [
    "print(categorize_list)"
   ]
  },
  {
   "cell_type": "markdown",
   "metadata": {},
   "source": [
    "Log in to AGOL by getting a token."
   ]
  },
  {
   "cell_type": "code",
   "execution_count": null,
   "metadata": {},
   "outputs": [],
   "source": [
    "token = getToken(ag_user, ag_pw)"
   ]
  },
  {
   "cell_type": "markdown",
   "metadata": {},
   "source": [
    "Create the parameters for our POST request"
   ]
  },
  {
   "cell_type": "code",
   "execution_count": null,
   "metadata": {},
   "outputs": [],
   "source": [
    "params = {\n",
    "    'f': 'json',\n",
    "    'token': token[0],\n",
    "    'items': str(categorize_list)\n",
    "}\n",
    "# and try to upload the list.\n",
    "data = requests.post(cs_url, params=params)"
   ]
  },
  {
   "cell_type": "markdown",
   "metadata": {},
   "source": [
    "Check the results. Note that if the JSON is valid and the operation can find the itemid but the category doesn't match up with anything at the group, the success report will still be true."
   ]
  },
  {
   "cell_type": "code",
   "execution_count": null,
   "metadata": {},
   "outputs": [],
   "source": [
    "print(data.json())"
   ]
  }
 ],
 "metadata": {
  "kernelspec": {
   "display_name": "Python 3",
   "language": "python",
   "name": "python3"
  },
  "language_info": {
   "codemirror_mode": {
    "name": "ipython",
    "version": 3
   },
   "file_extension": ".py",
   "mimetype": "text/x-python",
   "name": "python",
   "nbconvert_exporter": "python",
   "pygments_lexer": "ipython3",
   "version": "3.6.6"
  }
 },
 "nbformat": 4,
 "nbformat_minor": 2
}
