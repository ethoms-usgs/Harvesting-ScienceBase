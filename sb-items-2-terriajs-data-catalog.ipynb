{
 "cells": [
  {
   "cell_type": "markdown",
   "metadata": {},
   "source": [
    "# Build a TerriaJS data catalog file from items in a ScienceBase community\n",
    "This code uses [sciencebasepy](https://github.com/usgs/sciencebasepy) to walk through the parent-child tree at a ScienceBase community looking for items with services and files to include in a [TerriaJS](https://terria.io/) JSON data catalog initialization file. \n",
    "\n",
    "I had originally hoped to use the [CSW server](https://my.usgs.gov/confluence/display/sciencebase/Catalog+Services) at ScienceBase to build the catalog but found that 1) the parent-child path of an item on ScienceBase is not represented through nested groups in the resulting catalog and 2) once TerriaJS finds a usable service or file at an item, it stops looking and does not add anymore (not to mention that I couldn't get it find anything other than WMS endpoints). This is a problem for items which have different facets for multiple types of features.\n",
    "\n",
    "The example below starts at the [Alaska Science Center Data Backup community](https://www.sciencebase.gov/catalog/item/56b3ee22e4b0cc79997fb64b). Change repo_id for the community in which you are interested.\n",
    "\n",
    "This code currently only checks for ScienceBase WMS and WFS services and CSV files. Investigate other type mappings by comparing the raw json of the item (`print(sb.get_json(sb_url(item_id)))`) and the [TerriaJS documentation](https://docs.terria.io/guide/)"
   ]
  },
  {
   "cell_type": "code",
   "execution_count": null,
   "metadata": {},
   "outputs": [],
   "source": [
    "import sciencebasepy #https://github.com/usgs/sciencebasepy\n",
    "import requests\n",
    "import json\n",
    "import re\n",
    "from owslib.wms import WebMapService  #https://geopython.github.io/OWSLib/\n",
    "import stringcase #https://pypi.org/project/stringcase/"
   ]
  },
  {
   "cell_type": "code",
   "execution_count": null,
   "metadata": {},
   "outputs": [],
   "source": [
    "# set the id of the parent sciencebase item\n",
    "# ASC Data Backup Community\n",
    "repo_id = '56b3ee22e4b0cc79997fb64b'\n",
    "user = ''\n",
    "\n",
    "# mapping between ScienceBase link types and TerriaJS typs\n",
    "# link_types = {'ArcGIS Rest Service': 'esri-mapServer',\n",
    "#               'ArcGIS WMS Service': 'wms',\n",
    "#               'ScienceBase WMS Service': 'wms-getCapabilities',\n",
    "#               'ScienceBase WFS Service':'wfs-getCapabilities'\n",
    "#               }\n",
    "\n",
    "# this code currently only checks for ScienceBase WMS and WFS services and CSV files.\n",
    "# investigate other type mappings by comparing the raw json of the item (print(item_json))\n",
    "# and the TerriaJS documentation - https://docs.terria.io/guide/\n",
    "link_types = {'ScienceBase WMS Service': 'wms',\n",
    "              'ScienceBase WFS Service':'wfs'\n",
    "              }\n",
    "\n",
    "# blacklist these service layers, we only want layers with data\n",
    "black_list = ['sb:children', 'sb:childrenBoundingBox', 'sb:boundingBox', 'sb:footprint']\n",
    "\n",
    "# prepare a location for the output json file\n",
    "out_json = 'C:\\Temp\\ASC_groups.json'"
   ]
  },
  {
   "cell_type": "code",
   "execution_count": null,
   "metadata": {},
   "outputs": [],
   "source": [
    "def sb_url(id):\n",
    "    #build a url to a sciencebase item when the id is known\n",
    "    return 'https://www.sciencebase.gov/catalog/item/{}'.format(id)"
   ]
  },
  {
   "cell_type": "code",
   "execution_count": null,
   "metadata": {},
   "outputs": [],
   "source": [
    "def convert(name):\n",
    "    # changes a name like aerialImagery to Aerial Imagery\n",
    "    s1 = re.sub('(.)([A-Z][a-z]+)', r'\\1 \\2', name)\n",
    "    s2 = re.sub('([a-z0-9])([A-Z])', r'\\1 \\2', s1)\n",
    "    return stringcase.capitalcase(s2)"
   ]
  },
  {
   "cell_type": "code",
   "execution_count": null,
   "metadata": {},
   "outputs": [],
   "source": [
    "def lineage(this_json):\n",
    "    # Gets the names of all parent items up to the repo_id\n",
    "    this_title = this_json['title']\n",
    "    parentID = this_json['parentId']\n",
    "    path_string = this_title\n",
    "    while not parentID == repo_id:\n",
    "        g_parent_json = sb.get_json(sb_url(parentID))\n",
    "        path_string = \"{}/{}\".format(g_parent_json['title'], path_string)\n",
    "        parentID = g_parent_json['parentId']\n",
    "        \n",
    "    return path_string  "
   ]
  },
  {
   "cell_type": "code",
   "execution_count": null,
   "metadata": {},
   "outputs": [],
   "source": [
    "def build_group(n):\n",
    "    # parameters for a TerriaJS group dictionary\n",
    "    g = {}\n",
    "    g['name'] = n\n",
    "    g['type'] = 'group'\n",
    "    g['items'] = []\n",
    "    \n",
    "    return g"
   ]
  },
  {
   "cell_type": "code",
   "execution_count": null,
   "metadata": {},
   "outputs": [],
   "source": [
    "def make_item_dict(name, layers, uri):\n",
    "    # parameters for a TerriaJS item dictionary\n",
    "    g = {}\n",
    "    g['name'] = name\n",
    "    if name.endswith('.csv'):\n",
    "        g['type'] = 'csv'\n",
    "    else:\n",
    "        g['type'] = link_types[name]\n",
    "    if layers:    \n",
    "        g['layers'] = ','.join(layers)\n",
    "    g['url'] = uri\n",
    "    \n",
    "    return g"
   ]
  },
  {
   "cell_type": "code",
   "execution_count": null,
   "metadata": {},
   "outputs": [],
   "source": [
    "def check_bb(link_d):\n",
    "    # looking for layers in the service that are not simply bounding boxes\n",
    "    wms = WebMapService(link_d['uri'])\n",
    "    layers = [x for x in wms.contents if x not in black_list]\n",
    "    \n",
    "    return layers\n",
    "    "
   ]
  },
  {
   "cell_type": "code",
   "execution_count": null,
   "metadata": {},
   "outputs": [],
   "source": [
    "def add_csvs(files_list, items_dict):\n",
    "    # look for and add the urls to csv files\n",
    "    for f in files_list:\n",
    "        if f['contentType'] == 'text/csv':\n",
    "            item_dict = make_item_dict(f['name'], '', f['downloadUri'])\n",
    "            items_dict['items'].append(item_dict)\n",
    "            \n",
    "    return items_dict"
   ]
  },
  {
   "cell_type": "code",
   "execution_count": null,
   "metadata": {},
   "outputs": [],
   "source": [
    "def add_links(links_list, items_dict):\n",
    "    # look for and add the urls to the types of services in link_types dictionary\n",
    "    for link in links_list:\n",
    "        if link['title'] in link_types:\n",
    "            data_only = check_bb(link)\n",
    "            if data_only:\n",
    "                item_dict = make_item_dict(link['title'], data_only, link['uri'])\n",
    "                items_dict['items'].append(item_dict)    \n",
    "    \n",
    "    return items_dict"
   ]
  },
  {
   "cell_type": "code",
   "execution_count": null,
   "metadata": {},
   "outputs": [],
   "source": [
    "def work_children(item_id, l):\n",
    "    # recursive function to add nested groups until we get to an item that has no children\n",
    "    this_d = {}\n",
    "    for i in sb.get_child_ids(item_id):\n",
    "        item_json = sb.get_json(sb_url(i))\n",
    "        \n",
    "        # convert titles in camelCase to Capital Case\n",
    "        child = convert(item_json['title'])\n",
    "        this_d = build_group(child)\n",
    "        \n",
    "        if 'distributionLinks' in item_json:\n",
    "            this_d = add_links(item_json['distributionLinks'], this_d)\n",
    "            \n",
    "        if 'files' in item_json:\n",
    "            this_d = add_csvs(item_json['files'], this_d)\n",
    "        \n",
    "        l.append(this_d)\n",
    "        next_l = this_d['items']\n",
    "        work_children(i, next_l)"
   ]
  },
  {
   "cell_type": "code",
   "execution_count": null,
   "metadata": {},
   "outputs": [],
   "source": [
    "# start a sciencebase session\n",
    "sb = sciencebasepy.SbSession()\n",
    "# No need to log in for public item\n",
    "#sb.loginc(user)"
   ]
  },
  {
   "cell_type": "code",
   "execution_count": null,
   "metadata": {},
   "outputs": [],
   "source": [
    "# stub out the catalog\n",
    "# make changes here for starting condition of the map\n",
    "config = {}\n",
    "config['catalog'] = [{'name': 'ASC Data Releases', 'type': 'group', 'items': []}]\n",
    "config['corsDomains'] = ['sciencebase.gov', 'corsproxy.com']\n",
    "config['initialCamera'] = {\"west\": -154.47081370130456, \"east\": -140.1702524470959,\n",
    "                           \"north\": 63.654356255141536, \"south\": 57.252224232856754}\n",
    "config['homeCamera'] = {\"west\": -175, \"east\": -135, \"north\": 72, \"south\": 55}\n",
    "config['baseMapName'] = \"Bing Maps Roads\"\n",
    "config['initialViewerMode'] = '2d'"
   ]
  },
  {
   "cell_type": "code",
   "execution_count": null,
   "metadata": {},
   "outputs": [],
   "source": [
    "# iterate through the descendants\n",
    "print('Running...\\n')\n",
    "\n",
    "work_children(repo_id, config['catalog'][0]['items'])\n",
    "\n",
    "with open(out_json, 'w') as outfile:\n",
    "    json.dump(config, outfile)\n",
    "print('Done!')"
   ]
  },
  {
   "cell_type": "code",
   "execution_count": null,
   "metadata": {},
   "outputs": [],
   "source": [
    "# print the json here if you want to take a look\n",
    "# this json will be unsorted and looks a mess, but TerriaJS sorts it and the groups and items will be listed \n",
    "# alphabetically\n",
    "print(json.dumps(config, sort_keys=True, indent=4, separators=(',', ': ')))"
   ]
  }
 ],
 "metadata": {
  "kernelspec": {
   "display_name": "Python 3",
   "language": "python",
   "name": "python3"
  },
  "language_info": {
   "codemirror_mode": {
    "name": "ipython",
    "version": 3
   },
   "file_extension": ".py",
   "mimetype": "text/x-python",
   "name": "python",
   "nbconvert_exporter": "python",
   "pygments_lexer": "ipython3",
   "version": "3.6.6"
  }
 },
 "nbformat": 4,
 "nbformat_minor": 2
}
