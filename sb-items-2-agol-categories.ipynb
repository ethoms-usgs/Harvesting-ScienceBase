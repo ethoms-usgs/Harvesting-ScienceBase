{
 "cells": [
  {
   "cell_type": "markdown",
   "metadata": {},
   "source": [
    "# ScienceBase items to AGOL categories\n",
    "## Create AGOL group categories from ScienceBase items\n",
    "\n",
    "This code builds an [AGOL category schema](https://developers.arcgis.com/rest/users-groups-and-items/assign-category-schema.htm) from nested ScienceBase items. We send the schema to an AGOL group in order to create categories to which items can be assigned."
   ]
  },
  {
   "cell_type": "code",
   "execution_count": null,
   "metadata": {},
   "outputs": [],
   "source": [
    "import sciencebasepy #https://github.com/usgs/sciencebasepy\n",
    "from arcgis.gis import GIS\n",
    "import requests\n",
    "import re\n",
    "import json\n",
    "from owslib.wms import WebMapService  #https://geopython.github.io/OWSLib/\n",
    "import stringcase #https://pypi.org/project/stringcase/\n",
    "import urllib3 # to suppress warnings about lack of certificate verification \n",
    "urllib3.disable_warnings(urllib3.exceptions.InsecureRequestWarning)"
   ]
  },
  {
   "cell_type": "markdown",
   "metadata": {},
   "source": [
    "Set the variables below as necessary for your situation"
   ]
  },
  {
   "cell_type": "code",
   "execution_count": null,
   "metadata": {},
   "outputs": [],
   "source": [
    "# ScienceBase id (SB_ID) in this example points to the ASC Data Backup Community\n",
    "#sb_id = '56b3ee22e4b0cc79997fb64b'\n",
    "sb_id = '5bf322ede4b045bfcae0c371'\n",
    "\n",
    "# set the id of the AGOL group to which you want to add the category schema\n",
    "agol_id = '69f3ec79b0b944dcadfa4cf9003371e3'\n",
    "\n",
    "# SB login parameters\n",
    "sb_user = ''\n",
    "sb_pw = ''\n",
    "\n",
    "# AGOL login parameters\n",
    "ag_user = ''\n",
    "ag_pw = '' "
   ]
  },
  {
   "cell_type": "markdown",
   "metadata": {},
   "source": [
    "The assignCategorySchema operation is called by sending information to a special URL. In the case of USGS AGOL groups, it takes the form below:"
   ]
  },
  {
   "cell_type": "code",
   "execution_count": null,
   "metadata": {},
   "outputs": [],
   "source": [
    "cs_url = 'http://usgs.maps.arcgis.com/sharing/rest/community/groups/{}/assignCategorySchema'.format(agol_id)"
   ]
  },
  {
   "cell_type": "markdown",
   "metadata": {},
   "source": [
    "Functions:"
   ]
  },
  {
   "cell_type": "code",
   "execution_count": null,
   "metadata": {},
   "outputs": [],
   "source": [
    "def sb_url(id):\n",
    "    #build a url to a ScienceBase item when the id is known\n",
    "    return 'https://www.sciencebase.gov/catalog/item/{}'.format(id)"
   ]
  },
  {
   "cell_type": "code",
   "execution_count": null,
   "metadata": {},
   "outputs": [],
   "source": [
    "def convert(name):\n",
    "    # changes a name like aerialImagery to Aerial Imagery\n",
    "    s1 = re.sub('(.)([A-Z][a-z]+)', r'\\1 \\2', name)\n",
    "    s2 = re.sub('([a-z0-9])([A-Z])', r'\\1 \\2', s1)\n",
    "    s3 = s2.replace('  ', ' ')\n",
    "    return stringcase.capitalcase(s2)"
   ]
  },
  {
   "cell_type": "code",
   "execution_count": null,
   "metadata": {},
   "outputs": [],
   "source": [
    "def get_node(node_id):\n",
    "    temp_obj = {}\n",
    "    # recursively goes down all of the branches from the root id building out the category schema\n",
    "    # https://developers.arcgis.com/rest/users-groups-and-items/group-category-schema.htm\n",
    "    item_json = sb.get_json(sb_url(node_id))\n",
    "    if item_json['hasChildren']:\n",
    "        temp_obj['title'] = convert(item_json['title'])\n",
    "        temp_obj['categories'] = [get_node(child_id) for child_id in sb.get_child_ids(node_id)]\n",
    "        \n",
    "    return clean_empty(temp_obj)"
   ]
  },
  {
   "cell_type": "code",
   "execution_count": null,
   "metadata": {},
   "outputs": [],
   "source": [
    "def clean_empty(d):\n",
    "    # get_node can produce empty json keys and values and I don't know how to fix that there, so we'll build\n",
    "    # a dirty dictionary and then clean it\n",
    "    if not isinstance(d, (dict, list)):\n",
    "        return d\n",
    "    if isinstance(d, list):\n",
    "        return [v for v in (clean_empty(v) for v in d) if v]\n",
    "    return {k: v for k, v in ((k, clean_empty(v)) for k, v in d.items()) if v}\n",
    "        "
   ]
  },
  {
   "cell_type": "code",
   "execution_count": null,
   "metadata": {},
   "outputs": [],
   "source": [
    "def prune(tree, max, current=0):\n",
    "    # AGOL category schemas can only be 4 levels deep. Use this function to trim the depth of the \n",
    "    # nested lists of dictionaries before turning it into json\n",
    "    for n in tree:\n",
    "        if 'categories' in n:\n",
    "            if current == max:\n",
    "                del n['categories']\n",
    "            else:\n",
    "                prune(n['categories'], max, current + 1)\n",
    "        else:\n",
    "            pass"
   ]
  },
  {
   "cell_type": "code",
   "execution_count": null,
   "metadata": {},
   "outputs": [],
   "source": [
    "def sort_list(foo):\n",
    "    foo.sort(key=lambda k: k['title'])\n",
    "    for n in foo:\n",
    "        if 'categories' in n:\n",
    "            sort_list(n['categories'])"
   ]
  },
  {
   "cell_type": "code",
   "execution_count": null,
   "metadata": {},
   "outputs": [],
   "source": [
    "#returns ssl value and user token\n",
    "def getToken(user, pw):\n",
    "        data = {'username': user,\n",
    "            'password': pw,\n",
    "            'referer' : 'https://www.arcgis.com',\n",
    "            'f': 'json'}\n",
    "        url  = 'https://www.arcgis.com/sharing/rest/generateToken'\n",
    "        jres = requests.post(url, data=data, verify=False).json()\n",
    "        return jres['token'],jres['ssl']"
   ]
  },
  {
   "cell_type": "markdown",
   "metadata": {},
   "source": [
    "Start by starting a ScienceBase session. It is not necessary to log in for public items, but the connection seems more robust if you do. Use `sb.loginc(sb_user)` to log in interactively if you don't want to save the password in the script."
   ]
  },
  {
   "cell_type": "code",
   "execution_count": null,
   "metadata": {},
   "outputs": [],
   "source": [
    "sb = sciencebasepy.SbSession()\n",
    "sb.login(sb_user, sb_pw)"
   ]
  },
  {
   "cell_type": "markdown",
   "metadata": {},
   "source": [
    "The first step is to walk the childern of the parent item, building nested python dictionaries."
   ]
  },
  {
   "cell_type": "code",
   "execution_count": null,
   "metadata": {},
   "outputs": [],
   "source": [
    "sb_items = get_node(sb_id)"
   ]
  },
  {
   "cell_type": "markdown",
   "metadata": {},
   "source": [
    "Check the results."
   ]
  },
  {
   "cell_type": "code",
   "execution_count": null,
   "metadata": {},
   "outputs": [],
   "source": [
    "print(json.dumps(sb_items, indent=2, separators=(',', ': ')))"
   ]
  },
  {
   "cell_type": "markdown",
   "metadata": {},
   "source": [
    "Now, we have to clean up this list of dictionaries a bit. First, `get_node` returns all of the child dictionaries nested under a parent dictionary where the key 'title' is the name of the repo itself. In this example, I don't actually want that title to become a group category over at AGOL. I just want the titles of the children to become groups, so we re-write `sb_items` to be just `sb_items['categories']`"
   ]
  },
  {
   "cell_type": "code",
   "execution_count": null,
   "metadata": {},
   "outputs": [],
   "source": [
    "sb_items = sb_items['categories']"
   ]
  },
  {
   "cell_type": "markdown",
   "metadata": {},
   "source": [
    "Second, make sure all lists of dictionaries are sorted by `'title'`"
   ]
  },
  {
   "cell_type": "code",
   "execution_count": null,
   "metadata": {},
   "outputs": [],
   "source": [
    "sort_list(sb_items)"
   ]
  },
  {
   "cell_type": "markdown",
   "metadata": {},
   "source": [
    "Check the results"
   ]
  },
  {
   "cell_type": "code",
   "execution_count": null,
   "metadata": {},
   "outputs": [],
   "source": [
    "print(json.dumps(sb_items, indent=2, separators=(',', ': ')))"
   ]
  },
  {
   "cell_type": "markdown",
   "metadata": {},
   "source": [
    "Third, Prune the tree depth, if necessary, to meet AGOL requirements. Category schemas can only be 4 levels deep."
   ]
  },
  {
   "cell_type": "code",
   "execution_count": null,
   "metadata": {},
   "outputs": [],
   "source": [
    "prune(sb_items, 3)"
   ]
  },
  {
   "cell_type": "markdown",
   "metadata": {},
   "source": [
    "Check the results"
   ]
  },
  {
   "cell_type": "code",
   "execution_count": null,
   "metadata": {},
   "outputs": [],
   "source": [
    "print(json.dumps(sb_items, indent=2, separators=(',', ': ')))"
   ]
  },
  {
   "cell_type": "markdown",
   "metadata": {},
   "source": [
    "Lastly, wrap everything into a categorySchema dictionary container and append the list of dictionaries. This is how AGOL wants the JSON formatted"
   ]
  },
  {
   "cell_type": "code",
   "execution_count": null,
   "metadata": {},
   "outputs": [],
   "source": [
    "cs =  {'categorySchema': [{'title': 'Categories', 'categories':[]}]}\n",
    "for obj in sb_items:\n",
    "    cs['categorySchema'][0]['categories'].append(obj)\n",
    "cs_json = json.dumps(cs)"
   ]
  },
  {
   "cell_type": "markdown",
   "metadata": {},
   "source": [
    "Check the results"
   ]
  },
  {
   "cell_type": "code",
   "execution_count": null,
   "metadata": {},
   "outputs": [],
   "source": [
    "print(json.dumps(cs, indent=2, separators=(',', ': ')))"
   ]
  },
  {
   "cell_type": "markdown",
   "metadata": {},
   "source": [
    "Log in to AGOL by getting a token. Sorry about the InsecureRequestWarning. I don't know how to deal with that except to suppress it."
   ]
  },
  {
   "cell_type": "code",
   "execution_count": null,
   "metadata": {},
   "outputs": [],
   "source": [
    "token = getToken(ag_user, ag_pw)"
   ]
  },
  {
   "cell_type": "markdown",
   "metadata": {},
   "source": [
    "Create the parameters for our POST request"
   ]
  },
  {
   "cell_type": "code",
   "execution_count": null,
   "metadata": {},
   "outputs": [],
   "source": [
    "params = {\n",
    "    'f': 'json',\n",
    "    'token': token[0],\n",
    "    'categorySchema': cs_json\n",
    "}"
   ]
  },
  {
   "cell_type": "markdown",
   "metadata": {},
   "source": [
    "And try to upload the schema. This will clobber any schema that currently exists at the group"
   ]
  },
  {
   "cell_type": "code",
   "execution_count": null,
   "metadata": {},
   "outputs": [],
   "source": [
    "data = requests.post(cs_url, params=params)"
   ]
  },
  {
   "cell_type": "markdown",
   "metadata": {},
   "source": [
    "Print out the results of the operation."
   ]
  },
  {
   "cell_type": "code",
   "execution_count": null,
   "metadata": {},
   "outputs": [],
   "source": [
    "print(data.json())"
   ]
  }
 ],
 "metadata": {
  "kernelspec": {
   "display_name": "Python 3",
   "language": "python",
   "name": "python3"
  },
  "language_info": {
   "codemirror_mode": {
    "name": "ipython",
    "version": 3
   },
   "file_extension": ".py",
   "mimetype": "text/x-python",
   "name": "python",
   "nbconvert_exporter": "python",
   "pygments_lexer": "ipython3",
   "version": "3.6.6"
  }
 },
 "nbformat": 4,
 "nbformat_minor": 2
}
